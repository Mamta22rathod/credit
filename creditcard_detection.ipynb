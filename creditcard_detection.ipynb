{
  "cells": [
    {
      "cell_type": "code",
      "execution_count": null,
      "metadata": {
        "_cell_guid": "cd90f087-5bb3-4a68-86db-cd5eb59a71dc",
        "_uuid": "77872d05-03df-4bfa-a0df-841c7db7a4c2",
        "execution": {
          "iopub.execute_input": "2023-10-04T14:45:35.847870Z",
          "iopub.status.busy": "2023-10-04T14:45:35.847274Z",
          "iopub.status.idle": "2023-10-04T14:45:38.163816Z",
          "shell.execute_reply": "2023-10-04T14:45:38.163367Z",
          "shell.execute_reply.started": "2023-10-04T14:45:35.847558Z"
        },
        "id": "hzlgBseXIkm9",
        "outputId": "393087e4-18fd-4b39-9b54-e1951d3043a1"
      },
      "outputs": [
        {
          "data": {
            "text/html": [
              "<div>\n",
              "<style scoped>\n",
              "    .dataframe tbody tr th:only-of-type {\n",
              "        vertical-align: middle;\n",
              "    }\n",
              "\n",
              "    .dataframe tbody tr th {\n",
              "        vertical-align: top;\n",
              "    }\n",
              "\n",
              "    .dataframe thead th {\n",
              "        text-align: right;\n",
              "    }\n",
              "</style>\n",
              "<table border=\"1\" class=\"dataframe\">\n",
              "  <thead>\n",
              "    <tr style=\"text-align: right;\">\n",
              "      <th></th>\n",
              "      <th>Time</th>\n",
              "      <th>V1</th>\n",
              "      <th>V2</th>\n",
              "      <th>V3</th>\n",
              "      <th>V4</th>\n",
              "      <th>V5</th>\n",
              "      <th>V6</th>\n",
              "      <th>V7</th>\n",
              "      <th>V8</th>\n",
              "      <th>V9</th>\n",
              "      <th>...</th>\n",
              "      <th>V21</th>\n",
              "      <th>V22</th>\n",
              "      <th>V23</th>\n",
              "      <th>V24</th>\n",
              "      <th>V25</th>\n",
              "      <th>V26</th>\n",
              "      <th>V27</th>\n",
              "      <th>V28</th>\n",
              "      <th>Amount</th>\n",
              "      <th>Class</th>\n",
              "    </tr>\n",
              "  </thead>\n",
              "  <tbody>\n",
              "    <tr>\n",
              "      <th>count</th>\n",
              "      <td>284807.000000</td>\n",
              "      <td>2.848070e+05</td>\n",
              "      <td>2.848070e+05</td>\n",
              "      <td>2.848070e+05</td>\n",
              "      <td>2.848070e+05</td>\n",
              "      <td>2.848070e+05</td>\n",
              "      <td>2.848070e+05</td>\n",
              "      <td>2.848070e+05</td>\n",
              "      <td>2.848070e+05</td>\n",
              "      <td>2.848070e+05</td>\n",
              "      <td>...</td>\n",
              "      <td>2.848070e+05</td>\n",
              "      <td>2.848070e+05</td>\n",
              "      <td>2.848070e+05</td>\n",
              "      <td>2.848070e+05</td>\n",
              "      <td>2.848070e+05</td>\n",
              "      <td>2.848070e+05</td>\n",
              "      <td>2.848070e+05</td>\n",
              "      <td>2.848070e+05</td>\n",
              "      <td>284807.000000</td>\n",
              "      <td>284807.000000</td>\n",
              "    </tr>\n",
              "    <tr>\n",
              "      <th>mean</th>\n",
              "      <td>94813.859575</td>\n",
              "      <td>3.919560e-15</td>\n",
              "      <td>5.688174e-16</td>\n",
              "      <td>-8.769071e-15</td>\n",
              "      <td>2.782312e-15</td>\n",
              "      <td>-1.552563e-15</td>\n",
              "      <td>2.010663e-15</td>\n",
              "      <td>-1.694249e-15</td>\n",
              "      <td>-1.927028e-16</td>\n",
              "      <td>-3.137024e-15</td>\n",
              "      <td>...</td>\n",
              "      <td>1.537294e-16</td>\n",
              "      <td>7.959909e-16</td>\n",
              "      <td>5.367590e-16</td>\n",
              "      <td>4.458112e-15</td>\n",
              "      <td>1.453003e-15</td>\n",
              "      <td>1.699104e-15</td>\n",
              "      <td>-3.660161e-16</td>\n",
              "      <td>-1.206049e-16</td>\n",
              "      <td>88.349619</td>\n",
              "      <td>0.001727</td>\n",
              "    </tr>\n",
              "    <tr>\n",
              "      <th>std</th>\n",
              "      <td>47488.145955</td>\n",
              "      <td>1.958696e+00</td>\n",
              "      <td>1.651309e+00</td>\n",
              "      <td>1.516255e+00</td>\n",
              "      <td>1.415869e+00</td>\n",
              "      <td>1.380247e+00</td>\n",
              "      <td>1.332271e+00</td>\n",
              "      <td>1.237094e+00</td>\n",
              "      <td>1.194353e+00</td>\n",
              "      <td>1.098632e+00</td>\n",
              "      <td>...</td>\n",
              "      <td>7.345240e-01</td>\n",
              "      <td>7.257016e-01</td>\n",
              "      <td>6.244603e-01</td>\n",
              "      <td>6.056471e-01</td>\n",
              "      <td>5.212781e-01</td>\n",
              "      <td>4.822270e-01</td>\n",
              "      <td>4.036325e-01</td>\n",
              "      <td>3.300833e-01</td>\n",
              "      <td>250.120109</td>\n",
              "      <td>0.041527</td>\n",
              "    </tr>\n",
              "    <tr>\n",
              "      <th>min</th>\n",
              "      <td>0.000000</td>\n",
              "      <td>-5.640751e+01</td>\n",
              "      <td>-7.271573e+01</td>\n",
              "      <td>-4.832559e+01</td>\n",
              "      <td>-5.683171e+00</td>\n",
              "      <td>-1.137433e+02</td>\n",
              "      <td>-2.616051e+01</td>\n",
              "      <td>-4.355724e+01</td>\n",
              "      <td>-7.321672e+01</td>\n",
              "      <td>-1.343407e+01</td>\n",
              "      <td>...</td>\n",
              "      <td>-3.483038e+01</td>\n",
              "      <td>-1.093314e+01</td>\n",
              "      <td>-4.480774e+01</td>\n",
              "      <td>-2.836627e+00</td>\n",
              "      <td>-1.029540e+01</td>\n",
              "      <td>-2.604551e+00</td>\n",
              "      <td>-2.256568e+01</td>\n",
              "      <td>-1.543008e+01</td>\n",
              "      <td>0.000000</td>\n",
              "      <td>0.000000</td>\n",
              "    </tr>\n",
              "    <tr>\n",
              "      <th>25%</th>\n",
              "      <td>54201.500000</td>\n",
              "      <td>-9.203734e-01</td>\n",
              "      <td>-5.985499e-01</td>\n",
              "      <td>-8.903648e-01</td>\n",
              "      <td>-8.486401e-01</td>\n",
              "      <td>-6.915971e-01</td>\n",
              "      <td>-7.682956e-01</td>\n",
              "      <td>-5.540759e-01</td>\n",
              "      <td>-2.086297e-01</td>\n",
              "      <td>-6.430976e-01</td>\n",
              "      <td>...</td>\n",
              "      <td>-2.283949e-01</td>\n",
              "      <td>-5.423504e-01</td>\n",
              "      <td>-1.618463e-01</td>\n",
              "      <td>-3.545861e-01</td>\n",
              "      <td>-3.171451e-01</td>\n",
              "      <td>-3.269839e-01</td>\n",
              "      <td>-7.083953e-02</td>\n",
              "      <td>-5.295979e-02</td>\n",
              "      <td>5.600000</td>\n",
              "      <td>0.000000</td>\n",
              "    </tr>\n",
              "    <tr>\n",
              "      <th>50%</th>\n",
              "      <td>84692.000000</td>\n",
              "      <td>1.810880e-02</td>\n",
              "      <td>6.548556e-02</td>\n",
              "      <td>1.798463e-01</td>\n",
              "      <td>-1.984653e-02</td>\n",
              "      <td>-5.433583e-02</td>\n",
              "      <td>-2.741871e-01</td>\n",
              "      <td>4.010308e-02</td>\n",
              "      <td>2.235804e-02</td>\n",
              "      <td>-5.142873e-02</td>\n",
              "      <td>...</td>\n",
              "      <td>-2.945017e-02</td>\n",
              "      <td>6.781943e-03</td>\n",
              "      <td>-1.119293e-02</td>\n",
              "      <td>4.097606e-02</td>\n",
              "      <td>1.659350e-02</td>\n",
              "      <td>-5.213911e-02</td>\n",
              "      <td>1.342146e-03</td>\n",
              "      <td>1.124383e-02</td>\n",
              "      <td>22.000000</td>\n",
              "      <td>0.000000</td>\n",
              "    </tr>\n",
              "    <tr>\n",
              "      <th>75%</th>\n",
              "      <td>139320.500000</td>\n",
              "      <td>1.315642e+00</td>\n",
              "      <td>8.037239e-01</td>\n",
              "      <td>1.027196e+00</td>\n",
              "      <td>7.433413e-01</td>\n",
              "      <td>6.119264e-01</td>\n",
              "      <td>3.985649e-01</td>\n",
              "      <td>5.704361e-01</td>\n",
              "      <td>3.273459e-01</td>\n",
              "      <td>5.971390e-01</td>\n",
              "      <td>...</td>\n",
              "      <td>1.863772e-01</td>\n",
              "      <td>5.285536e-01</td>\n",
              "      <td>1.476421e-01</td>\n",
              "      <td>4.395266e-01</td>\n",
              "      <td>3.507156e-01</td>\n",
              "      <td>2.409522e-01</td>\n",
              "      <td>9.104512e-02</td>\n",
              "      <td>7.827995e-02</td>\n",
              "      <td>77.165000</td>\n",
              "      <td>0.000000</td>\n",
              "    </tr>\n",
              "    <tr>\n",
              "      <th>max</th>\n",
              "      <td>172792.000000</td>\n",
              "      <td>2.454930e+00</td>\n",
              "      <td>2.205773e+01</td>\n",
              "      <td>9.382558e+00</td>\n",
              "      <td>1.687534e+01</td>\n",
              "      <td>3.480167e+01</td>\n",
              "      <td>7.330163e+01</td>\n",
              "      <td>1.205895e+02</td>\n",
              "      <td>2.000721e+01</td>\n",
              "      <td>1.559499e+01</td>\n",
              "      <td>...</td>\n",
              "      <td>2.720284e+01</td>\n",
              "      <td>1.050309e+01</td>\n",
              "      <td>2.252841e+01</td>\n",
              "      <td>4.584549e+00</td>\n",
              "      <td>7.519589e+00</td>\n",
              "      <td>3.517346e+00</td>\n",
              "      <td>3.161220e+01</td>\n",
              "      <td>3.384781e+01</td>\n",
              "      <td>25691.160000</td>\n",
              "      <td>1.000000</td>\n",
              "    </tr>\n",
              "  </tbody>\n",
              "</table>\n",
              "<p>8 rows × 31 columns</p>\n",
              "</div>"
            ],
            "text/plain": [
              "                Time            V1            V2            V3            V4  \\\n",
              "count  284807.000000  2.848070e+05  2.848070e+05  2.848070e+05  2.848070e+05   \n",
              "mean    94813.859575  3.919560e-15  5.688174e-16 -8.769071e-15  2.782312e-15   \n",
              "std     47488.145955  1.958696e+00  1.651309e+00  1.516255e+00  1.415869e+00   \n",
              "min         0.000000 -5.640751e+01 -7.271573e+01 -4.832559e+01 -5.683171e+00   \n",
              "25%     54201.500000 -9.203734e-01 -5.985499e-01 -8.903648e-01 -8.486401e-01   \n",
              "50%     84692.000000  1.810880e-02  6.548556e-02  1.798463e-01 -1.984653e-02   \n",
              "75%    139320.500000  1.315642e+00  8.037239e-01  1.027196e+00  7.433413e-01   \n",
              "max    172792.000000  2.454930e+00  2.205773e+01  9.382558e+00  1.687534e+01   \n",
              "\n",
              "                 V5            V6            V7            V8            V9  \\\n",
              "count  2.848070e+05  2.848070e+05  2.848070e+05  2.848070e+05  2.848070e+05   \n",
              "mean  -1.552563e-15  2.010663e-15 -1.694249e-15 -1.927028e-16 -3.137024e-15   \n",
              "std    1.380247e+00  1.332271e+00  1.237094e+00  1.194353e+00  1.098632e+00   \n",
              "min   -1.137433e+02 -2.616051e+01 -4.355724e+01 -7.321672e+01 -1.343407e+01   \n",
              "25%   -6.915971e-01 -7.682956e-01 -5.540759e-01 -2.086297e-01 -6.430976e-01   \n",
              "50%   -5.433583e-02 -2.741871e-01  4.010308e-02  2.235804e-02 -5.142873e-02   \n",
              "75%    6.119264e-01  3.985649e-01  5.704361e-01  3.273459e-01  5.971390e-01   \n",
              "max    3.480167e+01  7.330163e+01  1.205895e+02  2.000721e+01  1.559499e+01   \n",
              "\n",
              "       ...           V21           V22           V23           V24  \\\n",
              "count  ...  2.848070e+05  2.848070e+05  2.848070e+05  2.848070e+05   \n",
              "mean   ...  1.537294e-16  7.959909e-16  5.367590e-16  4.458112e-15   \n",
              "std    ...  7.345240e-01  7.257016e-01  6.244603e-01  6.056471e-01   \n",
              "min    ... -3.483038e+01 -1.093314e+01 -4.480774e+01 -2.836627e+00   \n",
              "25%    ... -2.283949e-01 -5.423504e-01 -1.618463e-01 -3.545861e-01   \n",
              "50%    ... -2.945017e-02  6.781943e-03 -1.119293e-02  4.097606e-02   \n",
              "75%    ...  1.863772e-01  5.285536e-01  1.476421e-01  4.395266e-01   \n",
              "max    ...  2.720284e+01  1.050309e+01  2.252841e+01  4.584549e+00   \n",
              "\n",
              "                V25           V26           V27           V28         Amount  \\\n",
              "count  2.848070e+05  2.848070e+05  2.848070e+05  2.848070e+05  284807.000000   \n",
              "mean   1.453003e-15  1.699104e-15 -3.660161e-16 -1.206049e-16      88.349619   \n",
              "std    5.212781e-01  4.822270e-01  4.036325e-01  3.300833e-01     250.120109   \n",
              "min   -1.029540e+01 -2.604551e+00 -2.256568e+01 -1.543008e+01       0.000000   \n",
              "25%   -3.171451e-01 -3.269839e-01 -7.083953e-02 -5.295979e-02       5.600000   \n",
              "50%    1.659350e-02 -5.213911e-02  1.342146e-03  1.124383e-02      22.000000   \n",
              "75%    3.507156e-01  2.409522e-01  9.104512e-02  7.827995e-02      77.165000   \n",
              "max    7.519589e+00  3.517346e+00  3.161220e+01  3.384781e+01   25691.160000   \n",
              "\n",
              "               Class  \n",
              "count  284807.000000  \n",
              "mean        0.001727  \n",
              "std         0.041527  \n",
              "min         0.000000  \n",
              "25%         0.000000  \n",
              "50%         0.000000  \n",
              "75%         0.000000  \n",
              "max         1.000000  \n",
              "\n",
              "[8 rows x 31 columns]"
            ]
          },
          "execution_count": 1,
          "metadata": {},
          "output_type": "execute_result"
        }
      ],
      "source": [
        "import numpy as np\n",
        "import pandas as pd\n",
        "import matplotlib.pyplot as plt\n",
        "import seaborn as sb\n",
        "\n",
        "\n",
        "data = pd.read_csv(\"/content/creditcard.csv\")\n",
        "#data.head()\n",
        "data.describe()"
      ]
    },
    {
      "cell_type": "code",
      "execution_count": null,
      "metadata": {
        "_cell_guid": "a4ab5586-fc8a-4977-ae79-4b3348220710",
        "_uuid": "d2a4adf6-82b0-4f17-804a-97e24fc3797f",
        "execution": {
          "iopub.execute_input": "2023-10-04T14:45:40.651258Z",
          "iopub.status.busy": "2023-10-04T14:45:40.650785Z",
          "iopub.status.idle": "2023-10-04T14:45:40.676710Z",
          "shell.execute_reply": "2023-10-04T14:45:40.675726Z",
          "shell.execute_reply.started": "2023-10-04T14:45:40.651205Z"
        },
        "id": "0Wj0CxBMIknC",
        "outputId": "8509477b-5077-44bf-ff54-22c7e4809f2b"
      },
      "outputs": [
        {
          "name": "stdout",
          "output_type": "stream",
          "text": [
            "   Time        V1        V2        V3        V4        V5        V6        V7  \\\n",
            "0   0.0 -1.359807 -0.072781  2.536347  1.378155 -0.338321  0.462388  0.239599   \n",
            "1   0.0  1.191857  0.266151  0.166480  0.448154  0.060018 -0.082361 -0.078803   \n",
            "2   1.0 -1.358354 -1.340163  1.773209  0.379780 -0.503198  1.800499  0.791461   \n",
            "3   1.0 -0.966272 -0.185226  1.792993 -0.863291 -0.010309  1.247203  0.237609   \n",
            "4   2.0 -1.158233  0.877737  1.548718  0.403034 -0.407193  0.095921  0.592941   \n",
            "\n",
            "         V8        V9  ...       V21       V22       V23       V24       V25  \\\n",
            "0  0.098698  0.363787  ... -0.018307  0.277838 -0.110474  0.066928  0.128539   \n",
            "1  0.085102 -0.255425  ... -0.225775 -0.638672  0.101288 -0.339846  0.167170   \n",
            "2  0.247676 -1.514654  ...  0.247998  0.771679  0.909412 -0.689281 -0.327642   \n",
            "3  0.377436 -1.387024  ... -0.108300  0.005274 -0.190321 -1.175575  0.647376   \n",
            "4 -0.270533  0.817739  ... -0.009431  0.798278 -0.137458  0.141267 -0.206010   \n",
            "\n",
            "        V26       V27       V28  Amount  Class  \n",
            "0 -0.189115  0.133558 -0.021053  149.62      0  \n",
            "1  0.125895 -0.008983  0.014724    2.69      0  \n",
            "2 -0.139097 -0.055353 -0.059752  378.66      0  \n",
            "3 -0.221929  0.062723  0.061458  123.50      0  \n",
            "4  0.502292  0.219422  0.215153   69.99      0  \n",
            "\n",
            "[5 rows x 31 columns]\n"
          ]
        }
      ],
      "source": [
        "#check if there are missing data\n",
        "data.isnull().any().any()\n",
        "print(data.head())\n",
        "#change 'Class' dtype to \"bool\"\n",
        "data['Class'] = data['Class'].astype('bool')"
      ]
    },
    {
      "cell_type": "code",
      "execution_count": null,
      "metadata": {
        "_cell_guid": "34d9a62e-9419-4991-82a5-06294371d04d",
        "_uuid": "caf8e04a-c2a9-473c-aee6-dd88b51c0ca0",
        "execution": {
          "iopub.execute_input": "2023-10-04T14:45:43.368732Z",
          "iopub.status.busy": "2023-10-04T14:45:43.368497Z",
          "iopub.status.idle": "2023-10-04T14:45:43.382379Z",
          "shell.execute_reply": "2023-10-04T14:45:43.381707Z",
          "shell.execute_reply.started": "2023-10-04T14:45:43.368704Z"
        },
        "id": "-HG5zOJKIknD",
        "outputId": "d984d31e-12ff-447b-93d4-8c4ea3272e23"
      },
      "outputs": [
        {
          "name": "stdout",
          "output_type": "stream",
          "text": [
            "False    284315\n",
            "True        492\n",
            "Name: Class, dtype: int64\n"
          ]
        }
      ],
      "source": [
        "class_zero = data.Class.value_counts().values[0]\n",
        "class_one = data.Class.value_counts().values[1]\n",
        "print(data[\"Class\"].value_counts())"
      ]
    },
    {
      "cell_type": "code",
      "execution_count": null,
      "metadata": {
        "_cell_guid": "669bb12b-813e-4733-85fb-694b7830973f",
        "_uuid": "a2780265-20eb-4b1a-901d-5410213a3da3",
        "execution": {
          "iopub.execute_input": "2023-10-04T14:45:45.574733Z",
          "iopub.status.busy": "2023-10-04T14:45:45.574329Z",
          "iopub.status.idle": "2023-10-04T14:45:45.704936Z",
          "shell.execute_reply": "2023-10-04T14:45:45.704202Z",
          "shell.execute_reply.started": "2023-10-04T14:45:45.574699Z"
        },
        "id": "yT8hR3rNIknE",
        "outputId": "268bc461-0f14-4c57-9fe2-f4843dfb915f"
      },
      "outputs": [
        {
          "data": {
            "text/plain": [
              "Text(0.5, 1.0, 'Class distribution')"
            ]
          },
          "execution_count": 4,
          "metadata": {},
          "output_type": "execute_result"
        },
        {
          "data": {
            "image/png": "[encoded data removed]",
            "text/plain": [
              "<Figure size 432x288 with 1 Axes>"
            ]
          },
          "metadata": {
            "needs_background": "light"
          },
          "output_type": "display_data"
        }
      ],
      "source": [
        "sb.barplot(x=data.Class.value_counts().index.values, y=data.Class.value_counts().values)\n",
        "plt.title(\"Class distribution\")"
      ]
    },
    {
      "cell_type": "code",
      "execution_count": null,
      "metadata": {
        "execution": {
          "iopub.execute_input": "2023-10-04T14:45:48.116794Z",
          "iopub.status.busy": "2023-10-04T14:45:48.116531Z",
          "iopub.status.idle": "2023-10-04T14:45:48.138051Z",
          "shell.execute_reply": "2023-10-04T14:45:48.137635Z",
          "shell.execute_reply.started": "2023-10-04T14:45:48.116759Z"
        },
        "id": "EvG0OAGCIknF",
        "outputId": "06be65fd-ca18-43ae-b322-359023b2cdb6"
      },
      "outputs": [
        {
          "data": {
            "text/plain": [
              "count    2.848070e+05\n",
              "mean     3.202236e-16\n",
              "std      1.000002e+00\n",
              "min     -3.532294e-01\n",
              "25%     -3.308401e-01\n",
              "50%     -2.652715e-01\n",
              "75%     -4.471707e-02\n",
              "max      1.023622e+02\n",
              "Name: AmountNormalized, dtype: float64"
            ]
          },
          "execution_count": 5,
          "metadata": {},
          "output_type": "execute_result"
        }
      ],
      "source": [
        "from sklearn.model_selection import train_test_split\n",
        "from sklearn.preprocessing import StandardScaler\n",
        "from sklearn import metrics\n",
        "data['AmountNormalized'] = StandardScaler().fit_transform(data['Amount'].values.reshape(-1, 1))\n",
        "data['AmountNormalized'].describe()"
      ]
    },
    {
      "cell_type": "code",
      "execution_count": null,
      "metadata": {
        "_cell_guid": "1161036b-44b2-4ee1-885d-611b811a76a6",
        "_uuid": "6b20b204-87b1-4c64-a5e3-2860b1127e2f",
        "execution": {
          "iopub.execute_input": "2023-10-04T14:45:53.756493Z",
          "iopub.status.busy": "2023-10-04T14:45:53.756041Z",
          "iopub.status.idle": "2023-10-04T14:45:53.895858Z",
          "shell.execute_reply": "2023-10-04T14:45:53.894997Z",
          "shell.execute_reply.started": "2023-10-04T14:45:53.756445Z"
        },
        "id": "uyFySCbVIknF"
      },
      "outputs": [],
      "source": [
        "X = data.iloc[:, data.columns != 'Class'].values\n",
        "y = data.iloc[:, data.columns == 'Class'].values\n",
        "X_train, X_test, y_train, y_test = train_test_split(X, y, test_size = 0.2, random_state = 0)"
      ]
    },
    {
      "cell_type": "code",
      "execution_count": null,
      "metadata": {
        "_cell_guid": "1489632f-0265-4aed-b9bb-4dbed79c9955",
        "_uuid": "16b87e58-dc57-4238-9c87-800dee41058f",
        "execution": {
          "iopub.execute_input": "2023-10-04T14:45:58.175576Z",
          "iopub.status.busy": "2023-10-04T14:45:58.175138Z",
          "iopub.status.idle": "2023-10-04T14:45:58.184466Z",
          "shell.execute_reply": "2023-10-04T14:45:58.183569Z",
          "shell.execute_reply.started": "2023-10-04T14:45:58.175534Z"
        },
        "id": "0KGfvHAtIknG"
      },
      "outputs": [],
      "source": [
        "def plot_precision_recall_curve(y_actual, y_score, model_name):\n",
        "    precision, recall, _ = metrics.precision_recall_curve(y_actual, y_score)\n",
        "    curve_data = pd.DataFrame(columns = range(0, len(precision)))\n",
        "    curve_data.loc['Precision'] = precision\n",
        "    curve_data.loc['Recall'] = recall\n",
        "    #print (curve_data)\n",
        "    plt.step(recall, precision, color='b', alpha=0.1, where='post')\n",
        "    plt.fill_between(recall, precision, step='post', alpha=0.1, color='b')\n",
        "    plt.title('Precision Recall Curve for {} Model'.format(model_name))\n",
        "    plt.xlabel('Recall')\n",
        "    plt.ylabel('Precision')\n",
        "    plt.xlim([0, 1.05])\n",
        "    plt.ylim([0, 1.0])\n",
        "\n",
        "def evaluate_model(y_actual, y_pred, y_score, model_name):\n",
        "    cm = metrics.confusion_matrix(y_actual, y_pred)\n",
        "    print ('Confusion Matrix for {} Model'.format(model_name))\n",
        "    print (cm)\n",
        "    print ('Classification Report for {} Model'.format(model_name))\n",
        "    print (metrics.classification_report(y_actual, y_pred, digits=6))\n",
        "    print ('Area under under ROC curve for {} Model'.format(model_name))\n",
        "    print (metrics.roc_auc_score(y_actual, y_score))\n",
        "    plot_precision_recall_curve(y_actual, y_score, model_name)"
      ]
    },
    {
      "cell_type": "code",
      "execution_count": null,
      "metadata": {
        "_cell_guid": "2986ed0c-383c-43fc-a6e1-2700ab9e19af",
        "_uuid": "b629d9d3-e3b1-4a9f-ae50-e1679a0536ad",
        "execution": {
          "iopub.execute_input": "2023-10-04T14:48:53.009666Z",
          "iopub.status.busy": "2023-10-04T14:48:53.009342Z",
          "iopub.status.idle": "2023-10-04T14:48:59.810322Z",
          "shell.execute_reply": "2023-10-04T14:48:59.809680Z",
          "shell.execute_reply.started": "2023-10-04T14:48:53.009637Z"
        },
        "id": "XoKbG56GIknG",
        "outputId": "3055f2a4-dc64-4906-b8a1-42d80d2baeb3"
      },
      "outputs": [
        {
          "name": "stdout",
          "output_type": "stream",
          "text": [
            "Confusion Matrix for KNN (n=5) Model\n",
            "[[56861     0]\n",
            " [   90    11]]\n",
            "Classification Report for KNN (n=5) Model\n",
            "              precision    recall  f1-score   support\n",
            "\n",
            "       False   0.998420  1.000000  0.999209     56861\n",
            "        True   1.000000  0.108911  0.196429       101\n",
            "\n",
            "    accuracy                       0.998420     56962\n",
            "   macro avg   0.999210  0.554455  0.597819     56962\n",
            "weighted avg   0.998422  0.998420  0.997786     56962\n",
            "\n",
            "Area under under ROC curve for KNN (n=5) Model\n",
            "0.6379445202570591\n"
          ]
        },
        {
          "data": {
            "image/png": "[encoded data removed]",
            "text/plain": [
              "<Figure size 432x288 with 1 Axes>"
            ]
          },
          "metadata": {
            "needs_background": "light"
          },
          "output_type": "display_data"
        }
      ],
      "source": [
        "#KNN n_neighbors = 5 and p = 1 (manhattan_distance)\n",
        "\n",
        "from sklearn.neighbors import KNeighborsClassifier\n",
        "#train\n",
        "knn = KNeighborsClassifier(n_neighbors=5, metric= 'minkowski', p=1)\n",
        "knn.fit(X_train, y_train.ravel())\n",
        "#test\n",
        "y_pred_knn = knn.predict(X_test)\n",
        "y_prob_knn = knn.predict_proba(X_test)\n",
        "\n",
        "evaluate_model(y_test, y_pred_knn, y_prob_knn[:, [1]], 'KNN (n=5)')"
      ]
    },
    {
      "cell_type": "code",
      "execution_count": null,
      "metadata": {
        "execution": {
          "iopub.execute_input": "2023-10-04T15:03:47.901520Z",
          "iopub.status.busy": "2023-10-04T15:03:47.901194Z",
          "iopub.status.idle": "2023-10-04T15:03:53.142847Z",
          "shell.execute_reply": "2023-10-04T15:03:53.142204Z",
          "shell.execute_reply.started": "2023-10-04T15:03:47.901463Z"
        },
        "id": "C1LxelkeIknH",
        "outputId": "b97ded19-e19c-4bae-bcd3-a1c081f662ef"
      },
      "outputs": [
        {
          "name": "stdout",
          "output_type": "stream",
          "text": [
            "Confusion Matrix for KNN (n=7) Model\n",
            "[[56861     0]\n",
            " [   97     4]]\n",
            "Classification Report for KNN (n=7) Model\n",
            "              precision    recall  f1-score   support\n",
            "\n",
            "       False   0.998297  1.000000  0.999148     56861\n",
            "        True   1.000000  0.039604  0.076190       101\n",
            "\n",
            "    accuracy                       0.998297     56962\n",
            "   macro avg   0.999148  0.519802  0.537669     56962\n",
            "weighted avg   0.998300  0.998297  0.997511     56962\n",
            "\n",
            "Area under under ROC curve for KNN (n=7) Model\n",
            "0.5769785829992576\n"
          ]
        },
        {
          "data": {
            "image/png": "[encoded data removed]",
            "text/plain": [
              "<Figure size 432x288 with 1 Axes>"
            ]
          },
          "metadata": {
            "needs_background": "light"
          },
          "output_type": "display_data"
        }
      ],
      "source": [
        "#KNN n_neighbors = 7 qnd metric= 'minkowski'\n",
        "\n",
        "from sklearn.neighbors import KNeighborsClassifier\n",
        "#train\n",
        "knn = KNeighborsClassifier(n_neighbors=7, metric= 'minkowski', p=2)\n",
        "knn.fit(X_train, y_train.ravel())\n",
        "#test\n",
        "y_pred_knn = knn.predict(X_test)\n",
        "y_prob_knn = knn.predict_proba(X_test)\n",
        "\n",
        "evaluate_model(y_test, y_pred_knn, y_prob_knn[:, [1]], 'KNN (n=7)')"
      ]
    },
    {
      "cell_type": "code",
      "execution_count": null,
      "metadata": {
        "execution": {
          "iopub.execute_input": "2023-10-04T15:02:18.283600Z",
          "iopub.status.busy": "2023-10-04T15:02:18.283267Z",
          "iopub.status.idle": "2023-10-04T15:02:23.531759Z",
          "shell.execute_reply": "2023-10-04T15:02:23.531174Z",
          "shell.execute_reply.started": "2023-10-04T15:02:18.283538Z"
        },
        "id": "MtGePLyXIknH",
        "outputId": "73924509-9dea-406a-c1c5-9540fc895075"
      },
      "outputs": [
        {
          "name": "stdout",
          "output_type": "stream",
          "text": [
            "Confusion Matrix for KNN (n=9) Model\n",
            "[[56860     1]\n",
            " [  100     1]]\n",
            "Classification Report for KNN (n=9) Model\n",
            "              precision    recall  f1-score   support\n",
            "\n",
            "       False   0.998244  0.999982  0.999113     56861\n",
            "        True   0.500000  0.009901  0.019417       101\n",
            "\n",
            "    accuracy                       0.998227     56962\n",
            "   macro avg   0.749122  0.504942  0.509265     56962\n",
            "weighted avg   0.997361  0.998227  0.997376     56962\n",
            "\n",
            "Area under under ROC curve for KNN (n=9) Model\n",
            "0.5811838178946365\n"
          ]
        },
        {
          "data": {
            "image/png": "[encoded data removed]",
            "text/plain": [
              "<Figure size 432x288 with 1 Axes>"
            ]
          },
          "metadata": {
            "needs_background": "light"
          },
          "output_type": "display_data"
        }
      ],
      "source": [
        "#KNN n_neighbors = 9 qnd metric= 'minkowski'\n",
        "\n",
        "from sklearn.neighbors import KNeighborsClassifier\n",
        "#train\n",
        "knn = KNeighborsClassifier(n_neighbors=9, metric= 'minkowski', p=2)\n",
        "knn.fit(X_train, y_train.ravel())\n",
        "#test\n",
        "y_pred_knn = knn.predict(X_test)\n",
        "y_prob_knn = knn.predict_proba(X_test)\n",
        "\n",
        "evaluate_model(y_test, y_pred_knn, y_prob_knn[:, [1]], 'KNN (n=9)')"
      ]
    },
    {
      "cell_type": "code",
      "execution_count": null,
      "metadata": {
        "execution": {
          "iopub.execute_input": "2023-10-04T15:01:52.687357Z",
          "iopub.status.busy": "2023-10-04T15:01:52.686918Z",
          "iopub.status.idle": "2023-10-04T15:01:57.533444Z",
          "shell.execute_reply": "2023-10-04T15:01:57.532817Z",
          "shell.execute_reply.started": "2023-10-04T15:01:52.687314Z"
        },
        "id": "SOJdeWoXIknI",
        "outputId": "d506b82b-cc4d-46d3-f76c-a84ba28e243d"
      },
      "outputs": [
        {
          "name": "stdout",
          "output_type": "stream",
          "text": [
            "Confusion Matrix for KNN (n=3) Model\n",
            "[[56859     2]\n",
            " [   93     8]]\n",
            "Classification Report for KNN (n=3) Model\n",
            "              precision    recall  f1-score   support\n",
            "\n",
            "       False   0.998367  0.999965  0.999165     56861\n",
            "        True   0.800000  0.079208  0.144144       101\n",
            "\n",
            "    accuracy                       0.998332     56962\n",
            "   macro avg   0.899184  0.539586  0.571655     56962\n",
            "weighted avg   0.998015  0.998332  0.997649     56962\n",
            "\n",
            "Area under under ROC curve for KNN (n=3) Model\n",
            "0.5685685485240106\n"
          ]
        },
        {
          "data": {
            "image/png": "[encoded data removed]",
            "text/plain": [
              "<Figure size 432x288 with 1 Axes>"
            ]
          },
          "metadata": {
            "needs_background": "light"
          },
          "output_type": "display_data"
        }
      ],
      "source": [
        "#KNN n_neighbors = 3 qnd metric= 'minkowski'\n",
        "\n",
        "from sklearn.neighbors import KNeighborsClassifier\n",
        "#train\n",
        "knn = KNeighborsClassifier(n_neighbors=3, metric= 'minkowski', p=2)\n",
        "knn.fit(X_train, y_train.ravel())\n",
        "#test\n",
        "y_pred_knn = knn.predict(X_test)\n",
        "y_prob_knn = knn.predict_proba(X_test)\n",
        "\n",
        "evaluate_model(y_test, y_pred_knn, y_prob_knn[:, [1]], 'KNN (n=3)')"
      ]
    },
    {
      "cell_type": "code",
      "execution_count": null,
      "metadata": {
        "execution": {
          "iopub.execute_input": "2023-10-04T15:01:37.722831Z",
          "iopub.status.busy": "2023-10-04T15:01:37.722468Z",
          "iopub.status.idle": "2023-10-04T15:01:42.095199Z",
          "shell.execute_reply": "2023-10-04T15:01:42.094569Z",
          "shell.execute_reply.started": "2023-10-04T15:01:37.722799Z"
        },
        "id": "A_cWURxQIknJ",
        "outputId": "dc157b10-d036-4cbd-d4b7-742ab9b79c8f"
      },
      "outputs": [
        {
          "name": "stdout",
          "output_type": "stream",
          "text": [
            "Confusion Matrix for KNN (n=1) Model\n",
            "[[56839    22]\n",
            " [   87    14]]\n",
            "Classification Report for KNN (n=1) Model\n",
            "              precision    recall  f1-score   support\n",
            "\n",
            "       False   0.998472  0.999613  0.999042     56861\n",
            "        True   0.388889  0.138614  0.204380       101\n",
            "\n",
            "    accuracy                       0.998086     56962\n",
            "   macro avg   0.693680  0.569113  0.601711     56962\n",
            "weighted avg   0.997391  0.998086  0.997633     56962\n",
            "\n",
            "Area under under ROC curve for KNN (n=1) Model\n",
            "0.5691134764801642\n"
          ]
        },
        {
          "data": {
            "image/png": "[encoded data removed]",
            "text/plain": [
              "<Figure size 432x288 with 1 Axes>"
            ]
          },
          "metadata": {
            "needs_background": "light"
          },
          "output_type": "display_data"
        }
      ],
      "source": [
        "#KNN n_neighbors = 1 qnd metric= 'minkowski'\n",
        "\n",
        "from sklearn.neighbors import KNeighborsClassifier\n",
        "#train\n",
        "knn = KNeighborsClassifier(n_neighbors=1, metric= 'minkowski', p=2)\n",
        "knn.fit(X_train, y_train.ravel())\n",
        "#test\n",
        "y_pred_knn = knn.predict(X_test)\n",
        "y_prob_knn = knn.predict_proba(X_test)\n",
        "\n",
        "evaluate_model(y_test, y_pred_knn, y_prob_knn[:, [1]], 'KNN (n=1)')"
      ]
    },
    {
      "cell_type": "code",
      "execution_count": null,
      "metadata": {
        "_cell_guid": "689fb3d6-c4fd-439a-995d-3c035afd7dd8",
        "_uuid": "be399739-d124-42ee-8787-cf63c1adfca6",
        "id": "qXzzdMwlIknJ",
        "outputId": "ea4a91a6-a297-4d66-df36-dcf8bac9ed98"
      },
      "outputs": [
        {
          "name": "stderr",
          "output_type": "stream",
          "text": [
            "/opt/conda/lib/python3.6/site-packages/sklearn/linear_model/logistic.py:947: ConvergenceWarning: lbfgs failed to converge. Increase the number of iterations.\n",
            "  \"of iterations.\", ConvergenceWarning)\n"
          ]
        },
        {
          "name": "stdout",
          "output_type": "stream",
          "text": [
            "Confusion Matrix for Logistic Regression Model\n",
            "[[56836    25]\n",
            " [   28    73]]\n",
            "Classification Report for Logistic Regression Model\n",
            "              precision    recall  f1-score   support\n",
            "\n",
            "       False   0.999508  0.999560  0.999534     56861\n",
            "        True   0.744898  0.722772  0.733668       101\n",
            "\n",
            "    accuracy                       0.999070     56962\n",
            "   macro avg   0.872203  0.861166  0.866601     56962\n",
            "weighted avg   0.999056  0.999070  0.999063     56962\n",
            "\n",
            "Area under under ROC curve for Logistic Regression Model\n",
            "0.9331238711180523\n"
          ]
        },
        {
          "data": {
            "image/png": "[encoded data removed]",
            "text/plain": [
              "<Figure size 432x288 with 1 Axes>"
            ]
          },
          "metadata": {
            "needs_background": "light"
          },
          "output_type": "display_data"
        }
      ],
      "source": [
        "from sklearn.linear_model import LogisticRegression\n",
        "lr = LogisticRegression(solver='lbfgs')\n",
        "#note y_train.ravel()\n",
        "lr.fit(X_train, y_train.ravel())\n",
        "y_pred_lr = lr.predict(X_test)\n",
        "y_score_lr = lr.decision_function(X_test)\n",
        "y_prob_lr = lr.predict_proba(X_test)\n",
        "\n",
        "evaluate_model(y_test, y_pred_lr, y_prob_lr[:,[1]], 'Logistic Regression')"
      ]
    }
  ],
  "metadata": {
    "kernelspec": {
      "display_name": "Python 3",
      "language": "python",
      "name": "python3"
    },
    "language_info": {
      "codemirror_mode": {
        "name": "ipython",
        "version": 3
      },
      "file_extension": ".py",
      "mimetype": "text/x-python",
      "name": "python",
      "nbconvert_exporter": "python",
      "pygments_lexer": "ipython3",
      "version": "3.6.6"
    },
    "colab": {
      "provenance": []
    }
  },
  "nbformat": 4,
  "nbformat_minor": 0
}